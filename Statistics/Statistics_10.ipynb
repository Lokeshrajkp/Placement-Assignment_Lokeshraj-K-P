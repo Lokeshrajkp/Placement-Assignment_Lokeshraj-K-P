{
  "nbformat": 4,
  "nbformat_minor": 0,
  "metadata": {
    "colab": {
      "provenance": []
    },
    "kernelspec": {
      "name": "python3",
      "display_name": "Python 3"
    },
    "language_info": {
      "name": "python"
    }
  },
  "cells": [
    {
      "cell_type": "code",
      "execution_count": 1,
      "metadata": {
        "colab": {
          "base_uri": "https://localhost:8080/"
        },
        "id": "vj4JU8X8-iH3",
        "outputId": "14fa9b35-2e92-446a-fec8-7a49d1a7b96a"
      },
      "outputs": [
        {
          "output_type": "stream",
          "name": "stdout",
          "text": [
            "The probability of exactly 20 bulbs being defective is 0.05162\n"
          ]
        }
      ],
      "source": [
        "from math import comb\n",
        "\n",
        "n = 500  # Total number of bulbs\n",
        "k = 20  # Number of defective bulbs\n",
        "p = 0.05  # Probability of a bulb being defective\n",
        "\n",
        "probability = comb(n, k) * (p ** k) * ((1 - p) ** (n - k))\n",
        "print(f\"The probability of exactly 20 bulbs being defective is {probability:.5f}\")\n"
      ]
    },
    {
      "cell_type": "code",
      "source": [
        "from scipy.stats import binom\n",
        "\n",
        "n = 500  # Total number of bulbs\n",
        "k = 10  # Minimum number of defective bulbs\n",
        "p = 0.05  # Probability of a bulb being defective\n",
        "\n",
        "probability = 1 - binom.cdf(k - 1, n, p)\n",
        "print(f\"The probability of at least 10 bulbs being defective is {probability:.5f}\")\n"
      ],
      "metadata": {
        "colab": {
          "base_uri": "https://localhost:8080/"
        },
        "id": "lcSMGlVt-nas",
        "outputId": "be77b2c7-b1c1-4b94-c148-3b23855f5aaf"
      },
      "execution_count": 2,
      "outputs": [
        {
          "output_type": "stream",
          "name": "stdout",
          "text": [
            "The probability of at least 10 bulbs being defective is 0.99983\n"
          ]
        }
      ]
    },
    {
      "cell_type": "code",
      "source": [
        "from scipy.stats import binom\n",
        "\n",
        "n = 500  # Total number of bulbs\n",
        "k = 15  # Maximum number of defective bulbs\n",
        "p = 0.05  # Probability of a bulb being defective\n",
        "\n",
        "probability = binom.cdf(k, n, p)\n",
        "print(f\"The probability of at most 15 bulbs being defective is {probability:.5f}\")\n"
      ],
      "metadata": {
        "colab": {
          "base_uri": "https://localhost:8080/"
        },
        "id": "0eAZJkSe-o_M",
        "outputId": "7c1d31fd-dd4c-41e8-bb6c-3dc369568965"
      },
      "execution_count": 3,
      "outputs": [
        {
          "output_type": "stream",
          "name": "stdout",
          "text": [
            "The probability of at most 15 bulbs being defective is 0.01986\n"
          ]
        }
      ]
    },
    {
      "cell_type": "code",
      "source": [
        "n = 500  # Total number of bulbs\n",
        "p = 0.05  # Probability of a bulb being defective\n",
        "\n",
        "expected_value = n * p\n",
        "print(f\"The expected number of defective bulbs in a batch of 500 is {expected_value:.2f}\")\n"
      ],
      "metadata": {
        "colab": {
          "base_uri": "https://localhost:8080/"
        },
        "id": "sxylWR6q-qit",
        "outputId": "9f15319f-d3fb-49c5-d7b1-f414509de205"
      },
      "execution_count": 4,
      "outputs": [
        {
          "output_type": "stream",
          "name": "stdout",
          "text": [
            "The expected number of defective bulbs in a batch of 500 is 25.00\n"
          ]
        }
      ]
    }
  ]
}