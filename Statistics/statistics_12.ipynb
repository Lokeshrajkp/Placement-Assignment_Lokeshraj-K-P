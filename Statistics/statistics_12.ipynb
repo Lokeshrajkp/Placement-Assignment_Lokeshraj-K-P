{
  "nbformat": 4,
  "nbformat_minor": 0,
  "metadata": {
    "colab": {
      "provenance": []
    },
    "kernelspec": {
      "name": "python3",
      "display_name": "Python 3"
    },
    "language_info": {
      "name": "python"
    }
  },
  "cells": [
    {
      "cell_type": "code",
      "execution_count": 1,
      "metadata": {
        "colab": {
          "base_uri": "https://localhost:8080/"
        },
        "id": "dQJ8Qx3_GOvN",
        "outputId": "d0bebce9-3cde-4fe7-cfd4-c68b421134b1"
      },
      "outputs": [
        {
          "output_type": "stream",
          "name": "stdout",
          "text": [
            "There is no significant difference in the mean improvement scores between the two groups.\n"
          ]
        }
      ],
      "source": [
        "import scipy.stats as stats\n",
        "\n",
        "# Data for Group A\n",
        "mean_a = 2.5\n",
        "std_a = 0.8\n",
        "n_a = 30\n",
        "\n",
        "# Data for Group B\n",
        "mean_b = 2.2\n",
        "std_b = 0.6\n",
        "n_b = 30\n",
        "\n",
        "# Calculating the t-statistic and p-value\n",
        "t_stat, p_value = stats.ttest_ind_from_stats(mean_a, std_a, n_a, mean_b, std_b, n_b)\n",
        "\n",
        "# Checking if the p-value is less than the significance level (0.05)\n",
        "if p_value < 0.05:\n",
        "    print(\"There is a significant difference in the mean improvement scores between the two groups.\")\n",
        "else:\n",
        "    print(\"There is no significant difference in the mean improvement scores between the two groups.\")\n"
      ]
    },
    {
      "cell_type": "code",
      "source": [
        "t_stat"
      ],
      "metadata": {
        "colab": {
          "base_uri": "https://localhost:8080/"
        },
        "id": "KXX5AJqPGS_t",
        "outputId": "1a47eaf4-714b-490c-8c1a-c287c2ef8b29"
      },
      "execution_count": 2,
      "outputs": [
        {
          "output_type": "execute_result",
          "data": {
            "text/plain": [
              "1.6431676725154976"
            ]
          },
          "metadata": {},
          "execution_count": 2
        }
      ]
    },
    {
      "cell_type": "code",
      "source": [
        "p_value"
      ],
      "metadata": {
        "colab": {
          "base_uri": "https://localhost:8080/"
        },
        "id": "mWIe-ouoJx47",
        "outputId": "8f5efa22-123f-4c30-d04c-bee519a76cc2"
      },
      "execution_count": 3,
      "outputs": [
        {
          "output_type": "execute_result",
          "data": {
            "text/plain": [
              "0.10575916705583671"
            ]
          },
          "metadata": {},
          "execution_count": 3
        }
      ]
    },
    {
      "cell_type": "code",
      "source": [
        "## Since p_value>0.05 we failed to reject null hypothesis"
      ],
      "metadata": {
        "id": "RjgAfwkQR4qA"
      },
      "execution_count": null,
      "outputs": []
    }
  ]
}