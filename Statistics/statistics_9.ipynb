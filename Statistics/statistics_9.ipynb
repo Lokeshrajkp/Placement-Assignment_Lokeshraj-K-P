{
  "nbformat": 4,
  "nbformat_minor": 0,
  "metadata": {
    "colab": {
      "provenance": []
    },
    "kernelspec": {
      "name": "python3",
      "display_name": "Python 3"
    },
    "language_info": {
      "name": "python"
    }
  },
  "cells": [
    {
      "cell_type": "code",
      "execution_count": 4,
      "metadata": {
        "colab": {
          "base_uri": "https://localhost:8080/"
        },
        "id": "Q5YP6QxWsEr2",
        "outputId": "59f40332-0885-4ba1-bbe5-02d8dadd74e1"
      },
      "outputs": [
        {
          "output_type": "stream",
          "name": "stdout",
          "text": [
            "The mean scores of all the students are the same.\n"
          ]
        }
      ],
      "source": [
        "from scipy.stats import f_oneway\n",
        "\n",
        "# Exam scores for each student\n",
        "exam1= [85,70, 90,75, 95]\n",
        "exam2= [90,80,85,70,92]\n",
        "final_exam=[92,85,88,75,96]\n",
        "\n",
        "# Perform the ANOVA test\n",
        "statistic, p_value = f_oneway(exam1, exam2,final_exam)\n",
        "\n",
        "# Check the p-value\n",
        "alpha = 0.05  # significance level\n",
        "if p_value > alpha:\n",
        "    print(\"The mean scores of all the students are the same.\")\n",
        "else:\n",
        "    print(\"The mean scores of the students are different.\")"
      ]
    },
    {
      "cell_type": "code",
      "source": [],
      "metadata": {
        "id": "FbKpCEwbsF08"
      },
      "execution_count": 4,
      "outputs": []
    },
    {
      "cell_type": "code",
      "source": [],
      "metadata": {
        "id": "7XJbXkaPsF28"
      },
      "execution_count": 4,
      "outputs": []
    },
    {
      "cell_type": "code",
      "source": [],
      "metadata": {
        "id": "8ATH4ct9te0t"
      },
      "execution_count": 4,
      "outputs": []
    }
  ]
}